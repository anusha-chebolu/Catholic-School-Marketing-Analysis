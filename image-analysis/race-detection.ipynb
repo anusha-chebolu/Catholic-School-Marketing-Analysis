{
 "cells": [
  {
   "cell_type": "code",
   "execution_count": 1,
   "metadata": {},
   "outputs": [],
   "source": [
    "import os\n",
    "from deepface import DeepFace"
   ]
  },
  {
   "cell_type": "code",
   "execution_count": 4,
   "metadata": {},
   "outputs": [],
   "source": [
    "def analyze_race_from_images(cropped_folder):\n",
    "    \"\"\"\n",
    "    Analyzes each image in cropped_folder for race/ethnicity and returns a dictionary\n",
    "    with counts for each detected dominant race.\n",
    "    \"\"\"\n",
    "    race_counts = {}\n",
    "    \n",
    "    # Filter for image files (jpg, jpeg, png)\n",
    "    image_files = [f for f in os.listdir(cropped_folder) if f.lower().endswith(('.png', '.jpg', '.jpeg'))]\n",
    "    image_files = image_files[:2]\n",
    "    \n",
    "    for image_file in image_files:\n",
    "        image_path = os.path.join(cropped_folder, image_file)\n",
    "        try:\n",
    "            # Analyze only the race attribute\n",
    "            results = DeepFace.analyze(img_path=image_path, actions=['race'], enforce_detection=False)\n",
    "\n",
    "            # If DeepFace returns a list, iterate through the detected faces\n",
    "            if isinstance(results, list):\n",
    "                for result in results:\n",
    "                    dominant_race = result.get(\"dominant_race\", \"Unknown\")\n",
    "                    race_counts[dominant_race] = race_counts.get(dominant_race, 0) + 1\n",
    "            else:  # Handle cases where only one face is detected (not returned as a list)\n",
    "                dominant_race = results.get(\"dominant_race\", \"Unknown\")\n",
    "                race_counts[dominant_race] = race_counts.get(dominant_race, 0) + 1\n",
    "\n",
    "        except Exception as e:\n",
    "            print(f\"Error analyzing {image_file}: {e}\")\n",
    "    \n",
    "    return race_counts\n",
    "\n",
    "\n"
   ]
  },
  {
   "cell_type": "code",
   "execution_count": 5,
   "metadata": {},
   "outputs": [
    {
     "name": "stdout",
     "output_type": "stream",
     "text": [
      "\n",
      "Race/Ethnicity counts:\n",
      "white: 1\n",
      "black: 1\n"
     ]
    }
   ],
   "source": [
    "if __name__ == '__main__':\n",
    "    # Dynamically derive the school name\n",
    "    school_name = input(\"Enter the school name: \").strip().lower().replace(\" \", \"\")\n",
    "    \n",
    "    # Construct the cropped folder name\n",
    "    cropped_folder = f\"../data-cleaning/cropped_faces_{school_name}\"\n",
    "    \n",
    "    # Ensure the folder exists\n",
    "    if not os.path.isdir(cropped_folder):\n",
    "        print(f\"Folder not found: {cropped_folder}\")\n",
    "        exit(1)\n",
    "    \n",
    "    # Analyze race/ethnicity across all cropped face images in the folder\n",
    "    race_counts = analyze_race_from_images(cropped_folder)\n",
    "    \n",
    "    # Print out the results\n",
    "    print(\"\\nRace/Ethnicity counts:\")\n",
    "    for race, count in race_counts.items():\n",
    "        print(f\"{race}: {count}\")"
   ]
  },
  {
   "cell_type": "code",
   "execution_count": 6,
   "metadata": {},
   "outputs": [
    {
     "name": "stdout",
     "output_type": "stream",
     "text": [
      "\n",
      "Image-wise Race Classification:\n",
      "img1000_face_1.jpg : white\n",
      "img1000_face_2.jpg : white\n",
      "\n",
      "Total Race Counts:\n",
      "white: 2\n"
     ]
    }
   ],
   "source": [
    "import os\n",
    "from deepface import DeepFace\n",
    "\n",
    "def analyze_race_from_images(cropped_folder):\n",
    "    \"\"\"\n",
    "    Analyzes the top 2 images in cropped_folder for race/ethnicity and returns:\n",
    "    - A dictionary mapping each image name to its detected dominant race.\n",
    "    - A count of occurrences for each detected race.\n",
    "    \"\"\"\n",
    "    race_counts = {}\n",
    "    image_race_mapping = {}\n",
    "\n",
    "    # Filter for image files (jpg, jpeg, png) and select the top 2\n",
    "    image_files = sorted([f for f in os.listdir(cropped_folder) if f.lower().endswith(('.png', '.jpg', '.jpeg'))])\n",
    "    image_files = image_files[:2]  # Select only the first two images\n",
    "\n",
    "    for image_file in image_files:\n",
    "        image_path = os.path.join(cropped_folder, image_file)\n",
    "        try:\n",
    "            # Analyze only the race attribute\n",
    "            results = DeepFace.analyze(img_path=image_path, actions=['race'], enforce_detection=False)\n",
    "\n",
    "            # If DeepFace returns a list, iterate through the detected faces\n",
    "            if isinstance(results, list):\n",
    "                for result in results:\n",
    "                    dominant_race = result.get(\"dominant_race\", \"Unknown\")\n",
    "                    race_counts[dominant_race] = race_counts.get(dominant_race, 0) + 1\n",
    "                    image_race_mapping[image_file] = dominant_race\n",
    "            else:  # Handle cases where only one face is detected (not returned as a list)\n",
    "                dominant_race = results.get(\"dominant_race\", \"Unknown\")\n",
    "                race_counts[dominant_race] = race_counts.get(dominant_race, 0) + 1\n",
    "                image_race_mapping[image_file] = dominant_race\n",
    "\n",
    "        except Exception as e:\n",
    "            print(f\"Error analyzing {image_file}: {e}\")\n",
    "\n",
    "    return image_race_mapping, race_counts\n",
    "\n",
    "\n",
    "if __name__ == '__main__':\n",
    "    # Dynamically derive the school name\n",
    "    school_name = input(\"Enter the school name: \").strip().lower().replace(\" \", \"\")\n",
    "\n",
    "    # Construct the cropped folder name\n",
    "    cropped_folder = f\"../data-cleaning/cropped_faces_{school_name}\"\n",
    "\n",
    "    # Ensure the folder exists\n",
    "    if not os.path.isdir(cropped_folder):\n",
    "        print(f\"Folder not found: {cropped_folder}\")\n",
    "        exit(1)\n",
    "\n",
    "    # Analyze race/ethnicity across only the top 2 cropped face images in the folder\n",
    "    image_race_mapping, race_counts = analyze_race_from_images(cropped_folder)\n",
    "\n",
    "    # Print out image-wise results\n",
    "    print(\"\\nImage-wise Race Classification:\")\n",
    "    for image, race in image_race_mapping.items():\n",
    "        print(f\"{image} : {race}\")\n",
    "\n",
    "    # Print out race counts\n",
    "    print(\"\\nTotal Race Counts:\")\n",
    "    for race, count in race_counts.items():\n",
    "        print(f\"{race}: {count}\")\n"
   ]
  }
 ],
 "metadata": {
  "kernelspec": {
   "display_name": "imageanalysis",
   "language": "python",
   "name": "python3"
  },
  "language_info": {
   "codemirror_mode": {
    "name": "ipython",
    "version": 3
   },
   "file_extension": ".py",
   "mimetype": "text/x-python",
   "name": "python",
   "nbconvert_exporter": "python",
   "pygments_lexer": "ipython3",
   "version": "3.11.11"
  }
 },
 "nbformat": 4,
 "nbformat_minor": 2
}
